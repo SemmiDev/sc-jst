{
 "cells": [
  {
   "cell_type": "code",
   "execution_count": 2,
   "id": "41182ffa",
   "metadata": {},
   "outputs": [],
   "source": [
    "import pandas as pd # pandas is a dataframe library\n",
    "import numpy as np # numpy is a numerical library\n",
    "import matplotlib.pyplot as plt # matplotlib is a plotting library"
   ]
  },
  {
   "cell_type": "code",
   "execution_count": 3,
   "id": "719f3064",
   "metadata": {},
   "outputs": [],
   "source": [
    "df = pd.read_csv('data copy.csv') # read in the data\n",
    "# df.head() # show the first 5 rows\n",
    "# df.tail() # show the last 5 rows\n",
    "# df.info() # Prints the dataframe's information\n",
    "# print(df.count()) # Prints the number of rows and columns\n",
    "\n",
    "df = df.dropna() # drop all rows with missing values\n",
    "# drop redundant data in row\n"
   ]
  },
  {
   "cell_type": "code",
   "execution_count": 4,
   "id": "808706a2",
   "metadata": {},
   "outputs": [],
   "source": [
    "from sklearn.model_selection import train_test_split # train_test_split is a function that splits the data into training and testing sets\n",
    "\n",
    "x = df.drop('Type', axis=1) # drop the `Type` column from the dataframe\n",
    "y = df['Type'] # get the `Type` column from the dataframe"
   ]
  },
  {
   "cell_type": "code",
   "execution_count": 5,
   "id": "9ac00484",
   "metadata": {},
   "outputs": [
    {
     "name": "stdout",
     "output_type": "stream",
     "text": [
      "Age            80\n",
      "Duration       80\n",
      "Frequency      80\n",
      "Location       80\n",
      "Character      80\n",
      "Intensity      80\n",
      "Nausea         80\n",
      "Vomit          80\n",
      "Phonophobia    80\n",
      "Photophobia    80\n",
      "Visual         80\n",
      "Sensory        80\n",
      "Dysphasia      80\n",
      "Dysarthria     80\n",
      "Vertigo        80\n",
      "Tinnitus       80\n",
      "Hypoacusis     80\n",
      "Diplopia       80\n",
      "Defect         80\n",
      "Ataxia         80\n",
      "Conscience     80\n",
      "Paresthesia    80\n",
      "DPF            80\n",
      "dtype: int64\n"
     ]
    }
   ],
   "source": [
    "# test_size is the percentage of data to be used for testing\n",
    "# random_staet is the seed for the random number generator\n",
    "x_train, x_test, y_train, y_test = train_test_split(x, y, test_size=0.2, random_state=1)\n",
    "# count x_train\n",
    "# print(x_train.count())\n",
    "print(x_test.count())"
   ]
  },
  {
   "cell_type": "code",
   "execution_count": 6,
   "id": "8af7864e",
   "metadata": {},
   "outputs": [],
   "source": [
    "from sklearn.preprocessing import MinMaxScaler # MinMaxScaler is a scaler that scales the data to a range of 0 to 1\n",
    "x_train = MinMaxScaler().fit_transform(x_train) # fit the scaler to the training data\n",
    "x_test = MinMaxScaler().fit_transform(x_test) # fit the scaler to the testing data\n",
    "\n",
    "# min max normalization formula:\n",
    "# (x - min) / (max - min)"
   ]
  },
  {
   "cell_type": "code",
   "execution_count": 43,
   "id": "f881637b",
   "metadata": {},
   "outputs": [
    {
     "data": {
      "text/html": [
       "<style>#sk-container-id-9 {color: black;background-color: white;}#sk-container-id-9 pre{padding: 0;}#sk-container-id-9 div.sk-toggleable {background-color: white;}#sk-container-id-9 label.sk-toggleable__label {cursor: pointer;display: block;width: 100%;margin-bottom: 0;padding: 0.3em;box-sizing: border-box;text-align: center;}#sk-container-id-9 label.sk-toggleable__label-arrow:before {content: \"▸\";float: left;margin-right: 0.25em;color: #696969;}#sk-container-id-9 label.sk-toggleable__label-arrow:hover:before {color: black;}#sk-container-id-9 div.sk-estimator:hover label.sk-toggleable__label-arrow:before {color: black;}#sk-container-id-9 div.sk-toggleable__content {max-height: 0;max-width: 0;overflow: hidden;text-align: left;background-color: #f0f8ff;}#sk-container-id-9 div.sk-toggleable__content pre {margin: 0.2em;color: black;border-radius: 0.25em;background-color: #f0f8ff;}#sk-container-id-9 input.sk-toggleable__control:checked~div.sk-toggleable__content {max-height: 200px;max-width: 100%;overflow: auto;}#sk-container-id-9 input.sk-toggleable__control:checked~label.sk-toggleable__label-arrow:before {content: \"▾\";}#sk-container-id-9 div.sk-estimator input.sk-toggleable__control:checked~label.sk-toggleable__label {background-color: #d4ebff;}#sk-container-id-9 div.sk-label input.sk-toggleable__control:checked~label.sk-toggleable__label {background-color: #d4ebff;}#sk-container-id-9 input.sk-hidden--visually {border: 0;clip: rect(1px 1px 1px 1px);clip: rect(1px, 1px, 1px, 1px);height: 1px;margin: -1px;overflow: hidden;padding: 0;position: absolute;width: 1px;}#sk-container-id-9 div.sk-estimator {font-family: monospace;background-color: #f0f8ff;border: 1px dotted black;border-radius: 0.25em;box-sizing: border-box;margin-bottom: 0.5em;}#sk-container-id-9 div.sk-estimator:hover {background-color: #d4ebff;}#sk-container-id-9 div.sk-parallel-item::after {content: \"\";width: 100%;border-bottom: 1px solid gray;flex-grow: 1;}#sk-container-id-9 div.sk-label:hover label.sk-toggleable__label {background-color: #d4ebff;}#sk-container-id-9 div.sk-serial::before {content: \"\";position: absolute;border-left: 1px solid gray;box-sizing: border-box;top: 0;bottom: 0;left: 50%;z-index: 0;}#sk-container-id-9 div.sk-serial {display: flex;flex-direction: column;align-items: center;background-color: white;padding-right: 0.2em;padding-left: 0.2em;position: relative;}#sk-container-id-9 div.sk-item {position: relative;z-index: 1;}#sk-container-id-9 div.sk-parallel {display: flex;align-items: stretch;justify-content: center;background-color: white;position: relative;}#sk-container-id-9 div.sk-item::before, #sk-container-id-9 div.sk-parallel-item::before {content: \"\";position: absolute;border-left: 1px solid gray;box-sizing: border-box;top: 0;bottom: 0;left: 50%;z-index: -1;}#sk-container-id-9 div.sk-parallel-item {display: flex;flex-direction: column;z-index: 1;position: relative;background-color: white;}#sk-container-id-9 div.sk-parallel-item:first-child::after {align-self: flex-end;width: 50%;}#sk-container-id-9 div.sk-parallel-item:last-child::after {align-self: flex-start;width: 50%;}#sk-container-id-9 div.sk-parallel-item:only-child::after {width: 0;}#sk-container-id-9 div.sk-dashed-wrapped {border: 1px dashed gray;margin: 0 0.4em 0.5em 0.4em;box-sizing: border-box;padding-bottom: 0.4em;background-color: white;}#sk-container-id-9 div.sk-label label {font-family: monospace;font-weight: bold;display: inline-block;line-height: 1.2em;}#sk-container-id-9 div.sk-label-container {text-align: center;}#sk-container-id-9 div.sk-container {/* jupyter's `normalize.less` sets `[hidden] { display: none; }` but bootstrap.min.css set `[hidden] { display: none !important; }` so we also need the `!important` here to be able to override the default hidden behavior on the sphinx rendered scikit-learn.org. See: https://github.com/scikit-learn/scikit-learn/issues/21755 */display: inline-block !important;position: relative;}#sk-container-id-9 div.sk-text-repr-fallback {display: none;}</style><div id=\"sk-container-id-9\" class=\"sk-top-container\"><div class=\"sk-text-repr-fallback\"><pre>MLPClassifier(activation=&#x27;tanh&#x27;, alpha=0.01, hidden_layer_sizes=(23, 10),\n",
       "              learning_rate_init=0.05, max_iter=650)</pre><b>In a Jupyter environment, please rerun this cell to show the HTML representation or trust the notebook. <br />On GitHub, the HTML representation is unable to render, please try loading this page with nbviewer.org.</b></div><div class=\"sk-container\" hidden><div class=\"sk-item\"><div class=\"sk-estimator sk-toggleable\"><input class=\"sk-toggleable__control sk-hidden--visually\" id=\"sk-estimator-id-9\" type=\"checkbox\" checked><label for=\"sk-estimator-id-9\" class=\"sk-toggleable__label sk-toggleable__label-arrow\">MLPClassifier</label><div class=\"sk-toggleable__content\"><pre>MLPClassifier(activation=&#x27;tanh&#x27;, alpha=0.01, hidden_layer_sizes=(23, 10),\n",
       "              learning_rate_init=0.05, max_iter=650)</pre></div></div></div></div></div>"
      ],
      "text/plain": [
       "MLPClassifier(activation='tanh', alpha=0.01, hidden_layer_sizes=(23, 10),\n",
       "              learning_rate_init=0.05, max_iter=650)"
      ]
     },
     "execution_count": 43,
     "metadata": {},
     "output_type": "execute_result"
    }
   ],
   "source": [
    "from sklearn.neural_network import MLPClassifier\n",
    "\n",
    "# best of hidden layern and neurons nodes for small data set\n",
    "# hidden_layer_sizes = (10, 10, 10)\n",
    "\n",
    "# best max_iter for small data set\n",
    "# max_iter = 1000\n",
    "\n",
    "# exhaustive search for best parameters\n",
    "# for hidden_layer_sizes in [(10, 10, 10), (10, 10, 10, 10), (10, 10, 10, 10, 10)]:\n",
    "#     for max_iter in [1000, 2000, 3000]:\n",
    "#         mlp = MLPClassifier(hidden_layer_sizes=hidden_layer_sizes, max_iter=max_iter)\n",
    "#         mlp.fit(x_train, y_train)\n",
    "#         print('Training set score: %f' % mlp.score(x_train, y_train))\n",
    "#         print('Test set score: %f' % mlp.score(x_test, y_test))\n",
    "#         print('Hidden layer sizes: %s' % str(hidden_layer_sizes))\n",
    "#         print('Max iterations: %d' % max_iter)\n",
    "#         print('\\n')\n",
    "\n",
    "\n",
    "# nn_migraine = MLPClassifier(hidden_layer_sizes=(4,3,2), max_iter=1100, alpha=0.01, activation='logistic', learning_rate_init=0.05)\n",
    "# nn_migraine = MLPClassifier(hidden_layer_sizes=(23,13), max_iter=450, alpha=0.01, activation='logistic', learning_rate_init=0.05)\n",
    "nn_migraine = MLPClassifier(hidden_layer_sizes=(23,10), max_iter=650, alpha=0.01, activation='tanh', learning_rate_init=0.05, solver='adam')\n",
    "\n",
    "# whats the best activation function for the data?\n",
    "# nn_migraine = MLPClassifier(hidden_layer_sizes=(7,5,3), max_iter=1100, alpha=0.01, activation='logistic', learning_rate_init=0.05)\n",
    "# nn_migraine = MLPClassifier(hidden_layer_sizes=(7,5,3), max_iter=1100, alpha=0.01, activation='relu', learning_rate_init=0.05)\n",
    "# nn_migraine = MLPClassifier(hidden_layer_sizes=(7,5,3), max_iter=1100, alpha=0.01, activation='tanh', learning_rate_init=0.05)\n",
    "# nn_migraine = MLPClassifier(hidden_layer_sizes=(7,5,3), max_iter=1100, alpha=0.01, activation='sigmoid', learning_rate_init=0.05)\n",
    "# nn_migraine = MLPClassifier(hidden_layer_sizes=(7,5,3), max_iter=1100, alpha=0.01, activation='identity', learning_rate_init=0.05)\n",
    "# nn_migraine = MLPClassifier(hidden_layer_sizes=(7,5,3), max_iter=1100, alpha=0.01, activation='cosine', learning_rate_init=0.05)\n",
    "\n",
    "# hidden_layer_sizes is the number of neurons in each hidden layer\n",
    "# hidden_layer_sizes have three params: (number of neurons in the first layer, number of neurons in the second layer, number of neurons in the third layer)\n",
    "# max_iter is the number of iterations to perform\n",
    "# alpha is the learning rate\n",
    "# verbose is a boolean that determines if the algorithm should print out the progress of the training\n",
    "# learning rate is the rate at which the weights are updated\n",
    "# activation is the activation function\n",
    "# logistic is the activation function\n",
    "# formula of logistic function\n",
    "# f(x) = 1 / (1 + e^(-x))\n",
    "\n",
    "nn_migraine.fit(x_train, y_train)\n"
   ]
  },
  {
   "cell_type": "code",
   "execution_count": 44,
   "id": "501cd5e8",
   "metadata": {},
   "outputs": [],
   "source": [
    "y_pred = nn_migraine.predict(x_test) # predict the labels of the testing data"
   ]
  },
  {
   "cell_type": "code",
   "execution_count": 45,
   "id": "8991562e",
   "metadata": {},
   "outputs": [
    {
     "data": {
      "text/plain": [
       "86.25"
      ]
     },
     "execution_count": 45,
     "metadata": {},
     "output_type": "execute_result"
    }
   ],
   "source": [
    "from sklearn.metrics import accuracy_score # accuracy_score is a function that calculates the accuracy of the model\n",
    "round(accuracy_score(y_test, y_pred), 5) # round the accuracy to 5 decimal places\n",
    "# convert to percentages\n",
    "round(accuracy_score(y_test, y_pred) * 100, 5)\n"
   ]
  },
  {
   "cell_type": "code",
   "execution_count": 41,
   "id": "65236baf",
   "metadata": {},
   "outputs": [
    {
     "data": {
      "image/png": "[encoded data removed]",
      "text/plain": [
       "<Figure size 432x288 with 2 Axes>"
      ]
     },
     "metadata": {
      "needs_background": "light"
     },
     "output_type": "display_data"
    },
    {
     "data": {
      "image/png": "[encoded data removed]",
      "text/plain": [
       "<Figure size 432x288 with 2 Axes>"
      ]
     },
     "metadata": {
      "needs_background": "light"
     },
     "output_type": "display_data"
    },
    {
     "name": "stdout",
     "output_type": "stream",
     "text": [
      "              precision    recall  f1-score   support\n",
      "\n",
      "           A       0.96      1.00      0.98        49\n",
      "           B       1.00      0.75      0.86         8\n",
      "           C       0.71      0.71      0.71         7\n",
      "           D       0.67      0.50      0.57         4\n",
      "           E       1.00      0.40      0.57         5\n",
      "           F       0.80      1.00      0.89         4\n",
      "           G       0.50      1.00      0.67         3\n",
      "\n",
      "    accuracy                           0.89        80\n",
      "   macro avg       0.81      0.77      0.75        80\n",
      "weighted avg       0.91      0.89      0.88        80\n",
      "\n"
     ]
    }
   ],
   "source": [
    "# from sklearn.metrics import plot_confusion_matrix\n",
    "import matplotlib.pyplot as plt\n",
    "# show confusion matrix\n",
    "# plot_confusion_matrix(nn_migraine, x_test, y_test, normalize='true')\n",
    "# plot_confusion_matrix(nn_migraine, x_test, y_test,display_labels=nn_migraine.classes_)\n",
    "# expand the plot to a full size figure\n",
    "\n",
    "\n",
    "# ConfusionMatrixDisplay.from_predictions\n",
    "from sklearn.metrics import ConfusionMatrixDisplay\n",
    "from sklearn.metrics import classification_report\n",
    "# ConfusionMatrixDisplay.from_predictions(y_test, y_pred).plot()\n",
    "ConfusionMatrixDisplay.from_estimator(nn_migraine, x_test, y_test).plot()\n",
    "# the from_estimator does is it creates a confusion matrix from the predictions of the model\n",
    "plt.show()\n",
    "\n",
    "# fig = plot_confusion_matrix(\n",
    "#     nn_migraine,\n",
    "#     x_test,\n",
    "#     y_test,\n",
    "#     display_labels=nn_migraine.classes_,\n",
    "#     # normalize=True, \n",
    "#     title='Normalized confusion matrix')\n",
    "# fig.figure.suptitle('Confusion matrix, without normalization')\n",
    "# plt.show()\n",
    "# confusion matrix is a table that shows the number of times the model predicted the correct class and the number of times the model predicted the wrong class\n",
    "# the diagonal of the matrix is the number of times the model predicted the correct class\n",
    "# the off-diagonal of the matrix is the number of times the model predicted the wrong class\n",
    "# the accuracy is the percentage of correct predictions\n",
    "\n",
    "print(classification_report(y_test, y_pred))"
   ]
  },
  {
   "cell_type": "code",
   "execution_count": 42,
   "id": "3f2f58c1",
   "metadata": {},
   "outputs": [
    {
     "data": {
      "image/png": "[encoded data removed]",
      "text/plain": [
       "<Figure size 432x288 with 1 Axes>"
      ]
     },
     "metadata": {
      "needs_background": "light"
     },
     "output_type": "display_data"
    }
   ],
   "source": [
    "# what the accuracy? macro avg, and weighted avg?\n",
    "# macro avg is the average of the accuracy of each class\n",
    "# weighted avg is the average of the accuracy of each class weighted by the number of instances of that class in the testing data\n",
    "# the accuracy is the percentage of correct predictions\n",
    "\n",
    "# what the precision, recall, f1-score, and support?\n",
    "# precision is the percentage of correct positive predictions\n",
    "# recall is the percentage of correct positive predictions\n",
    "# f1-score is the average of the precision and recall\n",
    "# support is the number of instances of the class in the testing data\n",
    "\n",
    "# lose curve\n",
    "import matplotlib.pyplot as plt\n",
    "\n",
    "# print the loss value in number\n",
    "# print(nn_migraine.loss_curve_) \n",
    "\n",
    "\n",
    "plt.plot(nn_migraine.loss_curve_)\n",
    "plt.title('Lose curve', fontsize=20)\n",
    "plt.xlabel('Iterations', fontsize=20)\n",
    "plt.ylabel('Loss/Error', fontsize=20)\n",
    "plt.show()"
   ]
  },
  {
   "cell_type": "code",
   "execution_count": 12,
   "id": "ebdc2719",
   "metadata": {},
   "outputs": [],
   "source": [
    "# visual layers and nodes using visualkeras\n",
    "# visualkeras.plot_model(nn_migraine, to_file='model.png')\n",
    "# visualkeras.plot_model(nn_migraine, to_file='model.png', show_shapes=True)\n",
    "# visualkeras.plot_model(nn_migraine, to_file='model.png', show_shapes=True, show_layer_names=True)\n",
    "# visualkeras.plot_model(nn_migraine, to_file='model.png', show_shapes=True, show_layer_names=True, show_node_names=True)\n"
   ]
  }
 ],
 "metadata": {
  "interpreter": {
   "hash": "ebf374ac2be0d177c7f343621d16a25239d04130ff1599d126c2d65c4e3011b6"
  },
  "kernelspec": {
   "display_name": "Python 3 (ipykernel)",
   "language": "python",
   "name": "python3"
  },
  "language_info": {
   "codemirror_mode": {
    "name": "ipython",
    "version": 3
   },
   "file_extension": ".py",
   "mimetype": "text/x-python",
   "name": "python",
   "nbconvert_exporter": "python",
   "pygments_lexer": "ipython3",
   "version": "3.8.10"
  }
 },
 "nbformat": 4,
 "nbformat_minor": 5
}
